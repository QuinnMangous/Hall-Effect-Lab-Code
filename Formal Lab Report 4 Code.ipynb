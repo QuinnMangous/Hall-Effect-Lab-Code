{
 "cells": [
  {
   "cell_type": "code",
   "execution_count": 1,
   "id": "3e07374c",
   "metadata": {},
   "outputs": [],
   "source": [
    "### Imports and global variables\n",
    "\n",
    "%matplotlib inline\n",
    "import numpy as np\n",
    "import matplotlib.pyplot as plt\n",
    "import matplotlib as mpl\n",
    "\n",
    "mpl.rc('font',family='Times New Roman')\n",
    "title_font = {'fontname':'Times New Roman'}\n",
    "\n",
    "L = 0.00465                        # Length of semiconductor strip [m]\n",
    "del_L = 0.00005                    # Uncertainty of caliper measurement [m]\n",
    "\n",
    "H = 0.00045                        # Thickness (height) of semiconductor strip [m]. The user manual wrote 0.4 or 0.5 mm,\n",
    "del_H = 0.00005                    # too small to measure in lab, so we chose 0.45 mm with uncertainty of 0.05 mm\n",
    "\n",
    "B = 0.219                          # Magnetic field strength [T] (2190 Gs)\n",
    "del_B = 0.219 * 0.005              # Uncertainty of instrument [T] (±0.5% accuracy)\n",
    "\n",
    "e = 1.602e-19                      # Elementary charge [C]"
   ]
  },
  {
   "cell_type": "markdown",
   "id": "bda58df5",
   "metadata": {},
   "source": [
    "Below is decomposing the raw data CSV file into useful data. In our code, 'n' and 'p' refer to the n-type and p-type semiconductors, respectively. I_1 or I_2 and B_1 or B_2 refer to different current and magnetic field directions, respectively. The division of 1000 is to get the measurements from milliamps and millivolts to amps and volts.\n",
    "\n",
    "Our voltage measurements are not the Hall voltage alone, but the combination of the Hall voltage, the IR drop and two other effects (Nernst and Rhighleduc effects). Reversing the current direction changes the sign of the Hall voltage and IR drop, but not the other effects. Reversing the magnetic field direction changes the sign of the Hall voltage and the other effects, but not the IR drop. Therefore, taking measurements with all combinations (four combinations) of these directions allows an average that eliminates all the effects, hence having values for the Hall voltage.\n",
    "\n",
    "For example: ($V$ = voltage reading, $V_H$ = Hall voltage magnitude, $IR$ = IR drop, $\\varepsilon$ = voltage from the two other effects)\n",
    "\n",
    "I_1_B_1: $V = V_H+ IR + \\varepsilon$\n",
    "\n",
    "I_1_B_2: $V = -V_H + IR - \\varepsilon$\n",
    "\n",
    "I_2_B_1: $V = -V_H - IR + \\varepsilon$\n",
    "\n",
    "I_2_B_2: $V = -(-V_H) - IR - \\varepsilon$\n",
    "\n",
    "Adding I_1_B_1 and I_2_B_2 gives $2V_H$ and adding I_1_B_2 and I_2_B_1 gives $-2V_H$. These can be averaged by subtracting the two and dividing by 4: I_1_B_1 + I_2_B_2 $-$ (I_1_B_2 + I_2_B_1) gives $4V_H$, dividing by 4 gives the average $V_H$."
   ]
  },
  {
   "cell_type": "code",
   "execution_count": 2,
   "id": "846f5115",
   "metadata": {},
   "outputs": [],
   "source": [
    "### Raw data processing\n",
    "\n",
    "raw_data = np.loadtxt('raw_hall_effect_data.csv', delimiter=',')\n",
    "\n",
    "n_I_1_B_1 = raw_data[:, :2] / 1e3                        # Gathering current and voltage columns\n",
    "n_I_2_B_1 = raw_data[:, 2:4] / 1e3                       # Data is now in A and V instead of the recorded mA and mV\n",
    "n_I_1_B_2 = raw_data[:, 4:6] / 1e3\n",
    "n_I_2_B_2 = raw_data[:, 6:8] / 1e3\n",
    "\n",
    "p_I_1_B_1 = raw_data[:, 8:10] / 1e3\n",
    "p_I_2_B_1 = raw_data[:, 10:12] / 1e3\n",
    "p_I_1_B_2 = raw_data[:, 12:14] / 1e3\n",
    "p_I_2_B_2 = raw_data[:, 14:] / 1e3\n",
    "                                                         # [:, 1] gives the voltage measurements\n",
    "n_Vh_1 = n_I_1_B_1[:, 1] + n_I_2_B_2[:, 1]               # Eliminates IR drop and other effects, giving 2Vh\n",
    "n_Vh_2 = n_I_1_B_2[:, 1] + n_I_2_B_1[:, 1]               # Eliminates IR drop and other effects, giving -2Vh\n",
    "\n",
    "p_Vh_1 = p_I_1_B_1[:, 1] + p_I_2_B_2[:, 1]\n",
    "p_Vh_2 = p_I_1_B_2[:, 1] + p_I_2_B_1[:, 1]\n",
    "                                                         # [:, 0] gives the current values\n",
    "n_avg_I = (n_I_1_B_1[:, 0] + n_I_2_B_1[:, 0]             # Average current values (varied slightly during experiment)\n",
    "           + n_I_1_B_2[:, 0] + n_I_2_B_2[:, 0]) / 4\n",
    "n_avg_Vh = (n_Vh_1 - n_Vh_2) / 4                         # Average Hall voltage\n",
    "\n",
    "p_avg_I = (p_I_1_B_1[:, 0] + p_I_2_B_1[:, 0] \n",
    "           + p_I_1_B_2[:, 0] + p_I_2_B_2[:, 0]) / 4\n",
    "p_avg_Vh = (p_Vh_1 - p_Vh_2) / 4\n",
    "\n",
    "n_Vh_model = np.linspace(-0.015, -0.092, 1000)             # Voltage values for model line\n",
    "p_Vh_model = np.linspace(0.014, 0.089, 1000)"
   ]
  },
  {
   "cell_type": "markdown",
   "id": "21b2f7bd",
   "metadata": {},
   "source": [
    "Using the user manual of the equipment used, the voltmeter had an accuracy of $±0.1$% with an additional $±0.1$ mV, or $±0.0001$ V. Since we did a lot of adding and subtracting with the raw data, the uncertainties of the voltages propagate through the formula $δz = \\sqrt{(δx)^2 + (δy)^2}$. \n",
    "\n",
    "During the experiment, we set the current through the semiconductor to a certain value, took the voltage reading, then changed the current to a different value, then took another reading. We did this for a range of current values, as one does with an independent variable. We then flipped the strip 180˚ (changed the magnetic field direction) and took the readings for the similar (almost same) current values. We did this for all four combinations of the magnetic field and current directions. However, because of this procedure, the current values chosen each time were slightly different to the correspoding value. E.g. for one of the trials (n_I_1_B_1), the first current value was 2.00 mA, but for another trial (n_I_2_B_1) it was 2.03 mA. This means for each average $V_H$, it no longer corresponds to a single current value, but a range (average) of current values, hence the n_ and p_avg_I. A better procedure would be to set the current to a value, measure the voltage for all four trials (combinations of magnetic field and current direction), then set it to the next current value, repeat.\n",
    "\n",
    "This means the current now has an uncertainty from this spread, which can be calculated from the sample standard deviation formula. The error bars from the current values from this procedure are much greater than the error bars from the voltage readings (instrument uncertainty). This can be seen by comparing the relative uncertainties of the voltages and currents (the current relative uncertainties are much larger). Therefore, the error bars on the graph will be the uncertainty from the current range, as the voltage uncertainty is insignificant. To use the same best fit code from previous labs, current will be on the vertical axis even though it's our independent variable, and voltage will be on the horizontal axis. We have yet to learn how to find the horizontal error bars, so this change from the convention is justified. "
   ]
  },
  {
   "cell_type": "code",
   "execution_count": 3,
   "id": "5938cfca",
   "metadata": {},
   "outputs": [
    {
     "name": "stdout",
     "output_type": "stream",
     "text": [
      "Relative uncertainties of voltages for n-type semiconductor:\n",
      "[0.00365968 0.00209508 0.00157227 0.00129615 0.00114653 0.00104601]\n",
      "\n",
      "Relative uncertainties of currents for n-type semiconductor:\n",
      "[0.02018087 0.02813078 0.01033792 0.00818118 0.00478355 0.00474313]\n",
      "\n",
      "Relative uncertainties of voltages for p-type semiconductor:\n",
      "[0.0040409  0.00222528 0.00166209 0.00139329 0.00122428 0.00112014]\n",
      "\n",
      "Relative uncertainties of currents for p-type semiconductor:\n",
      "[0.00883739 0.01004087 0.01129221 0.00581632 0.00532219 0.00589131]\n"
     ]
    }
   ],
   "source": [
    "### Uncertainties\n",
    "\n",
    "n_I_1_B_1_unc = abs(n_I_1_B_1[:, 1]) * 0.001 + 0.0001           # Uncertainties of voltages [V]\n",
    "n_I_2_B_1_unc = abs(n_I_2_B_1[:, 1]) * 0.001 + 0.0001           # User manual says accuracy of instrument is ±0.1%,\n",
    "n_I_1_B_2_unc = abs(n_I_1_B_2[:, 1]) * 0.001 + 0.0001           # plus the last digit of the resolution (0.1 mV)\n",
    "n_I_2_B_2_unc = abs(n_I_2_B_2[:, 1]) * 0.001 + 0.0001\n",
    "n_Vh_1_unc = np.sqrt(n_I_1_B_1_unc**2 + n_I_2_B_2_unc**2)\n",
    "n_Vh_2_unc = np.sqrt(n_I_2_B_1_unc**2 + n_I_1_B_2_unc**2)\n",
    "n_avg_Vh_unc = np.sqrt(n_Vh_1_unc**2 + n_Vh_2_unc**2) / 4\n",
    "\n",
    "p_I_1_B_1_unc = abs(p_I_1_B_1[:, 1]) * 0.001 + 0.0001\n",
    "p_I_2_B_1_unc = abs(p_I_2_B_1[:, 1]) * 0.001 + 0.0001\n",
    "p_I_1_B_2_unc = abs(p_I_1_B_2[:, 1]) * 0.001 + 0.0001\n",
    "p_I_2_B_2_unc = abs(p_I_2_B_2[:, 1]) * 0.001 + 0.0001\n",
    "p_Vh_1_unc = np.sqrt(p_I_1_B_1_unc**2 + p_I_2_B_2_unc**2)\n",
    "p_Vh_2_unc = np.sqrt(p_I_2_B_1_unc**2 + p_I_1_B_2_unc**2)\n",
    "p_avg_Vh_unc = np.sqrt(p_Vh_1_unc**2 + p_Vh_2_unc**2) / 4\n",
    "\n",
    "n_I_unc = np.sqrt((  (n_I_1_B_1[:, 0] - n_avg_I)**2             # Sample standard deviation formula\n",
    "                   + (n_I_2_B_1[:, 0] - n_avg_I)**2 \n",
    "                   + (n_I_1_B_2[:, 0] - n_avg_I)**2 \n",
    "                   + (n_I_2_B_2[:, 0] - n_avg_I)**2) / (4 - 1))\n",
    "p_I_unc = np.sqrt((  (p_I_1_B_1[:, 0] - p_avg_I)**2 \n",
    "                   + (p_I_2_B_1[:, 0] - p_avg_I)**2\n",
    "                   + (p_I_1_B_2[:, 0] - p_avg_I)**2 \n",
    "                   + (p_I_2_B_2[:, 0] - p_avg_I)**2) / (4 - 1))\n",
    "\n",
    "print(f\"Relative uncertainties of voltages for n-type semiconductor:\\n{abs(n_avg_Vh_unc/n_avg_Vh)}\\n\")\n",
    "print(f\"Relative uncertainties of currents for n-type semiconductor:\\n{n_I_unc/n_avg_I}\\n\")\n",
    "print(f\"Relative uncertainties of voltages for p-type semiconductor:\\n{abs(p_avg_Vh_unc/p_avg_Vh)}\\n\")\n",
    "print(f\"Relative uncertainties of currents for p-type semiconductor:\\n{p_I_unc/p_avg_I}\")"
   ]
  },
  {
   "cell_type": "markdown",
   "id": "d5b8e9f1",
   "metadata": {},
   "source": [
    "For the graphs, we made the marker sizes very small so that the error bars could be seen."
   ]
  },
  {
   "cell_type": "code",
   "execution_count": 4,
   "id": "b01a9290",
   "metadata": {},
   "outputs": [
    {
     "name": "stdout",
     "output_type": "stream",
     "text": [
      "The slope is (-0.1296 ± 0.0004) A/V.\n"
     ]
    },
    {
     "data": {
      "text/plain": [
       "Text(0, 0.5, 'Current [A]')"
      ]
     },
     "execution_count": 4,
     "metadata": {},
     "output_type": "execute_result"
    },
    {
     "data": {
      "image/png": "[encoded data removed]",
      "text/plain": [
       "<Figure size 640x480 with 1 Axes>"
      ]
     },
     "metadata": {},
     "output_type": "display_data"
    }
   ],
   "source": [
    "### Data processing for n-type semiconductor\n",
    "\n",
    "num_data = len(n_I_1_B_1[:, 1])\n",
    "num_bf = 1\n",
    "n_bf = np.zeros((num_bf,num_data))\n",
    "n_bf[0,:] = n_avg_Vh\n",
    "\n",
    "n_A = np.zeros((num_bf,num_bf))\n",
    "n_b = np.zeros(num_bf)                    \n",
    "for k in range(num_bf):\n",
    "    for j in range(num_bf):\n",
    "        n_A[k,j] = np.sum(n_bf[k,:]*n_bf[j,:]/n_I_unc**2) \n",
    "    n_b[k] = np.sum(n_avg_I*n_bf[k,:]/n_I_unc**2)\n",
    "\n",
    "n_A_inv = np.linalg.inv(n_A)\n",
    "\n",
    "n_slope = np.linalg.solve(n_A,n_b)[0]                              \n",
    "del_n_slope = np.sqrt(np.diag(n_A_inv))[0]\n",
    "print(f\"The slope is ({n_slope:.4f} ± {del_n_slope:.4f}) A/V.\")\n",
    "\n",
    "ax = plt.axes()\n",
    "ax.errorbar(n_avg_Vh, n_avg_I, n_I_unc, fmt=\".\", markersize=1)\n",
    "ax.plot(n_Vh_model, n_slope * n_Vh_model)\n",
    "#ax.set_title('Determining Hall coefficient of n-type semiconductor')\n",
    "ax.set_xlabel('Hall voltage [V]', fontsize=12)\n",
    "ax.set_ylabel('Current [A]', fontsize=12)"
   ]
  },
  {
   "cell_type": "code",
   "execution_count": 5,
   "id": "6a42c408",
   "metadata": {},
   "outputs": [
    {
     "name": "stdout",
     "output_type": "stream",
     "text": [
      "The slope is (0.1363 ± 0.0004) A/V.\n"
     ]
    },
    {
     "data": {
      "text/plain": [
       "Text(0, 0.5, 'Current [A]')"
      ]
     },
     "execution_count": 5,
     "metadata": {},
     "output_type": "execute_result"
    },
    {
     "data": {
      "image/png": "[encoded data removed]",
      "text/plain": [
       "<Figure size 640x480 with 1 Axes>"
      ]
     },
     "metadata": {},
     "output_type": "display_data"
    }
   ],
   "source": [
    "# Data processing for p-type semiconductor\n",
    "                                                                                      \n",
    "p_bf = np.zeros((num_bf,num_data))\n",
    "p_bf[0,:] = p_avg_Vh\n",
    "\n",
    "p_A = np.zeros((num_bf,num_bf))\n",
    "p_b = np.zeros(num_bf)      \n",
    "for k in range(num_bf):\n",
    "    for j in range(num_bf):\n",
    "        p_A[k,j] = np.sum(p_bf[k,:]*p_bf[j,:]/p_I_unc**2) \n",
    "    p_b[k] = np.sum(p_avg_I*p_bf[k,:]/p_I_unc**2)\n",
    "\n",
    "p_A_inv = np.linalg.inv(p_A)\n",
    "\n",
    "p_slope = np.linalg.solve(p_A,p_b)[0]                               \n",
    "del_p_slope = np.sqrt(np.diag(p_A_inv))[0]\n",
    "print(f\"The slope is ({p_slope:.4f} ± {del_p_slope:.4f}) A/V.\")\n",
    "\n",
    "ax = plt.axes()\n",
    "ax.errorbar(p_avg_Vh, p_avg_I, p_I_unc, fmt=\".\", markersize=1)\n",
    "ax.plot(p_Vh_model, p_slope * p_Vh_model)\n",
    "#ax.set_title('Determining Hall coefficient of p-type semiconductor')\n",
    "ax.set_xlabel('Hall voltage [V]', fontsize=12)\n",
    "ax.set_ylabel('Current [A]', fontsize=12)"
   ]
  },
  {
   "cell_type": "markdown",
   "id": "de831a44",
   "metadata": {},
   "source": [
    "Since $V_H = (\\frac{R_HB}{H})I$, then $I = (\\frac{H}{R_HB})V_H$. We graphed current against voltage, which means the slope of the graph is $\\frac{H}{R_HB}$, therefore, $R_H = \\frac{H}{(slope)\\space \\times \\space B}$. Formulas for the other functions are given in later paragraphs below."
   ]
  },
  {
   "cell_type": "code",
   "execution_count": 6,
   "id": "f903dcc9",
   "metadata": {},
   "outputs": [],
   "source": [
    "### Functions\n",
    "\n",
    "def get_del_Rh(slope, del_slope, H, del_H, B, del_B):\n",
    "    \"\"\"Gets uncertainty of Hall coefficient\"\"\"\n",
    "    dRh_dslope = -H / (B * slope**2)\n",
    "    dRh_dH = 1 / (B * slope)\n",
    "    dRh_dB = -H / (B**2 * slope)\n",
    "    return np.sqrt((dRh_dslope * del_slope)**2 + (dRh_dH * del_H)**2 + (dRh_dB * del_B)**2)\n",
    "\n",
    "# Calculating n (charge carrier density) and v_d/I (drift velocity per unit current) and their uncertainties\n",
    "\n",
    "def get_n(Rh, charge_sign):\n",
    "    \"\"\"Gets charge carrier density\"\"\"\n",
    "    return 1 / (Rh * charge_sign * e)\n",
    "\n",
    "def get_vd(Rh, L, H):\n",
    "    \"\"\"Gets drift velocity per unit current\"\"\"\n",
    "    return abs(Rh / (L * H))\n",
    "\n",
    "def get_del_n(Rh, del_Rh):\n",
    "    \"\"\"Gets uncertainty of charge carrier density\"\"\"\n",
    "    dn_dRh = -1 / (Rh**2 * e)\n",
    "    return abs(dn_dRh * del_Rh)\n",
    "\n",
    "def get_del_vd(Rh, del_Rh, L, del_L, H, del_H):\n",
    "    \"\"\"Gets uncertainty of drift velocity per unit current\"\"\"\n",
    "    dv_dRh = 1 / (L * H)\n",
    "    dv_dL = -Rh / (L**2 * H)\n",
    "    dv_dH = -Rh / (L * H**2)\n",
    "    return np.sqrt((dv_dRh * del_Rh)**2 + (dv_dL * del_L)**2 + (dv_dH * del_H)**2)"
   ]
  },
  {
   "cell_type": "code",
   "execution_count": 7,
   "id": "e2db7c03",
   "metadata": {},
   "outputs": [
    {
     "name": "stdout",
     "output_type": "stream",
     "text": [
      "(Without units or rounding)\n",
      "\n",
      "Hall coefficient for the n-type semiconductor is\n",
      "-0.015852237292093233 ± 0.0017637555985599545\n",
      "\n",
      "Charge charrier density n-type semiconductor is\n",
      "3.937738969215839e+20 ± 4.38121700088748e+19\n",
      "\n",
      "Drift velocity for the n-type semiconductor is\n",
      "7575.740641382668 ± 1194.0046868044722\n",
      "\n",
      "Hall coefficient for the p-type semiconductor is\n",
      "0.015073601607368791 ± 0.0016770848721008463\n",
      "\n",
      "Charge charrier density p-type semiconductor is\n",
      "4.14114517288402e+20 ± 4.607427012812995e+19\n",
      "\n",
      "Drift velocity for the p-type semiconductor is\n",
      "7203.632787273019 ± 1135.3443418670684\n"
     ]
    }
   ],
   "source": [
    "# Final values for concluding statement\n",
    "\n",
    "n_Rh = H / (n_slope * B) \n",
    "del_n_Rh = get_del_Rh(n_slope, del_n_slope, H, del_H, B, del_B)\n",
    "n_charge_carrier_density = get_n(n_Rh, -1)\n",
    "del_n_charge_carrier_density = get_del_n(n_Rh, del_n_Rh)\n",
    "n_drift_velocity_per_unit_current = get_vd(n_Rh, L, H)\n",
    "del_n_drift_velocity_per_unit_current = get_del_vd(n_Rh, del_n_Rh, L, del_L, H, del_H)\n",
    "print('(Without units or rounding)\\n')\n",
    "print(f'Hall coefficient for the n-type semiconductor is')\n",
    "print(f'{n_Rh} ± {del_n_Rh}\\n')\n",
    "print(f'Charge charrier density n-type semiconductor is')\n",
    "print(f'{n_charge_carrier_density} ± {del_n_charge_carrier_density}\\n')\n",
    "print(f'Drift velocity for the n-type semiconductor is')\n",
    "print(f'{n_drift_velocity_per_unit_current} ± {del_n_drift_velocity_per_unit_current}\\n')\n",
    "\n",
    "p_Rh = H / (p_slope * B) \n",
    "del_p_Rh = get_del_Rh(p_slope, del_p_slope, H, del_H, B, del_B)\n",
    "p_charge_carrier_density = get_n(p_Rh, 1)\n",
    "del_p_charge_carrier_density = get_del_n(p_Rh, del_p_Rh)\n",
    "p_drift_velocity_per_unit_current = get_vd(p_Rh, L, H)\n",
    "del_p_drift_velocity_per_unit_current = get_del_vd(p_Rh, del_p_Rh, L, del_L, H, del_H)\n",
    "print(f'Hall coefficient for the p-type semiconductor is')\n",
    "print(f'{p_Rh} ± {del_p_Rh}\\n')\n",
    "print(f'Charge charrier density p-type semiconductor is')\n",
    "print(f'{p_charge_carrier_density} ± {del_p_charge_carrier_density}\\n')\n",
    "print(f'Drift velocity for the p-type semiconductor is')\n",
    "print(f'{p_drift_velocity_per_unit_current} ± {del_p_drift_velocity_per_unit_current}')"
   ]
  },
  {
   "cell_type": "markdown",
   "id": "0326349a",
   "metadata": {},
   "source": [
    "The Hall coefficient is defined as $R_H = \\frac{1}{nq}$, where $n$ is the number of charge carriers per unit volume (charge carrier density), and $q$ is the charge of the charge carrier ($±e$). Therefore, for n-type semiconductors, $R_H$ is negative, and $R_H$ is positive for p-type semiconductors. In the experiment, the n-type and p-type semiconductors were labelled, but our values for $R_H$ of the two semiconductors confirms this. Additionally,  drift velocity can be defined as $v_d = \\frac{I}{nqA}$ where A is the cross-sectional area. We can have a drift velocity indepedent of current, call it a drift velocity per unit current, by dividing both sides by current. This gives $\\frac{v_d}{I} = \\frac{1}{nqA}$, which, for this experiment can be simplified to $\\frac{v_d}{I} = \\frac{R_H}{LH}$. Below are the final values the experiment aimed to find.\n",
    "\n",
    "For the n-type semiconductor,\n",
    "\n",
    "$R_H = (-0.0159 ± 0.0018) \\space m^3C^{-1}$,\n",
    "\n",
    "$n = (3.9 ± 0.4) \\times 10^{20} \\space m^{-3}$,\n",
    "\n",
    "$\\frac{v_d}{I} = (7.6 ± 1.2)\\times 10^{3} \\space ms^{-1}A^{-1}$.\n",
    "\n",
    "For the p-type semiconductor,\n",
    "\n",
    "$R_H = (0.0151 ± 0.0017) \\space m^3C^{-1}$,\n",
    "\n",
    "$n = (4.1 ± 0.5) \\times 10^{20} \\space m^{-3}$,\n",
    "\n",
    "$\\frac{v_d}{I} = (7.2 ± 1.1)\\times 10^{3} \\space ms^{-1}A^{-1}$."
   ]
  },
  {
   "cell_type": "code",
   "execution_count": null,
   "id": "28f3b1e4",
   "metadata": {},
   "outputs": [],
   "source": []
  }
 ],
 "metadata": {
  "kernelspec": {
   "display_name": "Python 3 (ipykernel)",
   "language": "python",
   "name": "python3"
  },
  "language_info": {
   "codemirror_mode": {
    "name": "ipython",
    "version": 3
   },
   "file_extension": ".py",
   "mimetype": "text/x-python",
   "name": "python",
   "nbconvert_exporter": "python",
   "pygments_lexer": "ipython3",
   "version": "3.9.13"
  }
 },
 "nbformat": 4,
 "nbformat_minor": 5
}
